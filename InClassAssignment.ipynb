{
  "nbformat": 4,
  "nbformat_minor": 0,
  "metadata": {
    "colab": {
      "provenance": [],
      "authorship_tag": "ABX9TyOoZkDsPl+tloPygcy761C6",
      "include_colab_link": true
    },
    "kernelspec": {
      "name": "python3",
      "display_name": "Python 3"
    },
    "language_info": {
      "name": "python"
    }
  },
  "cells": [
    {
      "cell_type": "markdown",
      "metadata": {
        "id": "view-in-github",
        "colab_type": "text"
      },
      "source": [
        "<a href=\"https://colab.research.google.com/github/hka38/BTE320/blob/main/InClassAssignment.ipynb\" target=\"_parent\"><img src=\"https://colab.research.google.com/assets/colab-badge.svg\" alt=\"Open In Colab\"/></a>"
      ]
    },
    {
      "cell_type": "code",
      "execution_count": 18,
      "metadata": {
        "colab": {
          "base_uri": "https://localhost:8080/"
        },
        "id": "1yQ_kG58aODy",
        "outputId": "415a483c-707b-452f-c25a-6d116c3c2b04"
      },
      "outputs": [
        {
          "output_type": "stream",
          "name": "stdout",
          "text": [
            "Enter sales ($): 12000\n",
            "Sales: $12000.0\n",
            "Enter tax rate (%): 30\n",
            "Cost of Goods Sold: $4800.0\n",
            "Gross Profit: $7200.0\n",
            "Taxes: $2160.0\n",
            "Net Income: $5040.0\n"
          ]
        }
      ],
      "source": [
        "Sales = float(input(\"Enter sales ($): \"))\n",
        "print(f\"Sales: ${Sales}\")\n",
        "\n",
        "Tax_Rate = float(input(\"Enter tax rate (%): \"))\n",
        "\n",
        "# Cost of Goods Sold\n",
        "Cost_of_Goods_Sold = 0.4\n",
        "Cost_of_Goods_Sold = Sales * Cost_of_Goods_Sold\n",
        "print(f\"Cost of Goods Sold: ${Cost_of_Goods_Sold}\")\n",
        "\n",
        "# Gross Profit\n",
        "Gross_Profit = Sales - Cost_of_Goods_Sold\n",
        "print(f\"Gross Profit: ${Gross_Profit}\")\n",
        "\n",
        "# Taxes\n",
        "Taxes = Gross_Profit * (Tax_Rate /100)\n",
        "print(f\"Taxes: ${Taxes}\")\n",
        "\n",
        "# Net Income\n",
        "Net_Income = Gross_Profit - Taxes\n",
        "print(f\"Net Income: ${Net_Income}\")"
      ]
    }
  ]
}