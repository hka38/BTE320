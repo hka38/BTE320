{
  "nbformat": 4,
  "nbformat_minor": 0,
  "metadata": {
    "colab": {
      "provenance": [],
      "authorship_tag": "ABX9TyPWfhpMW1OilfDp7/quyIcw",
      "include_colab_link": true
    },
    "kernelspec": {
      "name": "python3",
      "display_name": "Python 3"
    },
    "language_info": {
      "name": "python"
    }
  },
  "cells": [
    {
      "cell_type": "markdown",
      "metadata": {
        "id": "view-in-github",
        "colab_type": "text"
      },
      "source": [
        "<a href=\"https://colab.research.google.com/github/hka38/BTE320/blob/main/InClassAssignment.ipynb\" target=\"_parent\"><img src=\"https://colab.research.google.com/assets/colab-badge.svg\" alt=\"Open In Colab\"/></a>"
      ]
    },
    {
      "cell_type": "code",
      "execution_count": null,
      "metadata": {
        "colab": {
          "base_uri": "https://localhost:8080/"
        },
        "id": "1yQ_kG58aODy",
        "outputId": "415a483c-707b-452f-c25a-6d116c3c2b04"
      },
      "outputs": [
        {
          "output_type": "stream",
          "name": "stdout",
          "text": [
            "Enter sales ($): 12000\n",
            "Sales: $12000.0\n",
            "Enter tax rate (%): 30\n",
            "Cost of Goods Sold: $4800.0\n",
            "Gross Profit: $7200.0\n",
            "Taxes: $2160.0\n",
            "Net Income: $5040.0\n"
          ]
        }
      ],
      "source": [
        "Sales = float(input(\"Enter sales ($): \"))\n",
        "print(f\"Sales: ${Sales}\")\n",
        "\n",
        "Tax_Rate = float(input(\"Enter tax rate (%): \"))\n",
        "\n",
        "# Cost of Goods Sold\n",
        "Cost_of_Goods_Sold = 0.4\n",
        "Cost_of_Goods_Sold = Sales * Cost_of_Goods_Sold\n",
        "print(f\"Cost of Goods Sold: ${Cost_of_Goods_Sold}\")\n",
        "\n",
        "# Gross Profit\n",
        "Gross_Profit = Sales - Cost_of_Goods_Sold\n",
        "print(f\"Gross Profit: ${Gross_Profit}\")\n",
        "\n",
        "# Taxes\n",
        "Taxes = Gross_Profit * (Tax_Rate /100)\n",
        "print(f\"Taxes: ${Taxes}\")\n",
        "\n",
        "# Net Income\n",
        "Net_Income = Gross_Profit - Taxes\n",
        "print(f\"Net Income: ${Net_Income}\")"
      ]
    },
    {
      "cell_type": "code",
      "source": [
        "# Inventory Management Problem\n",
        "\n",
        "# Inputs: demand, reorder cost and holding cost:\n",
        "Demand = int(input(\"Enter Demand (units/year): \"))\n",
        "Reorder = float(input(\"Enter Reorder Cost ($/unit): \"))\n",
        "Holding = float(input(\"Enter Holding Cost ($/unit/year): \"))\n",
        "\n",
        "#Process: Calculate EOQ\n",
        "EOQ = (2 * Demand * Reorder / Holding)**(1 / 2)\n",
        "\n",
        "# Output\n",
        "print(f\"EOQ = {EOQ} units\")"
      ],
      "metadata": {
        "colab": {
          "base_uri": "https://localhost:8080/"
        },
        "id": "RuRUyebfmqBV",
        "outputId": "7c206001-8cfd-4251-e52e-d145460d0cf1"
      },
      "execution_count": null,
      "outputs": [
        {
          "output_type": "stream",
          "name": "stdout",
          "text": [
            "Enter Demand (units/year): 100\n",
            "Enter Reorder Cost ($/unit): 1.5\n",
            "Enter Holding Cost ($/unit/year): 3\n",
            "EOQ = 10.0 units\n"
          ]
        }
      ]
    },
    {
      "cell_type": "code",
      "source": [
        "# Numerical Calculator\n",
        "input1 = float(input('Enter the first value: '))\n",
        "input2 = float(input('Enter the second value: '))\n",
        "input3 = input('Choose the mathematical operator (+, -, *, /, //, **, %): ')\n",
        "\n",
        "if input3 == '*':\n",
        "  print(f\"{input1} * {input2} = {input1 * input2}\")\n",
        "elif input3 == '+':\n",
        "  print(f\"{input1} + {input2} = {input1 + input2}\")\n",
        "elif input3 == '/':\n",
        "  print(f\"{input1} / {input2} = {input1 / input2}\")\n",
        "elif input3 == '-':\n",
        "  print(f\"{input1} - {input2} = {input1 - input2}\")\n",
        "elif input3 == '**':\n",
        "  print(f\"{input1} ** {input2} = {input1 ** input2}\")\n",
        "elif input3 == '%':\n",
        "  print(f\"{input1} mod {input2} = {input1 % input2}\")\n",
        "elif input3 == '//':\n",
        "  print(f\"{input1} // {input2} = {input1 // input2}\")\n",
        "else:\n",
        "  print('Error: Invalid Operator')"
      ],
      "metadata": {
        "colab": {
          "base_uri": "https://localhost:8080/"
        },
        "id": "b6xXYcruqT1x",
        "outputId": "eaac6899-542a-45ce-c6ed-d5982c8d6aef"
      },
      "execution_count": null,
      "outputs": [
        {
          "output_type": "stream",
          "name": "stdout",
          "text": [
            "Enter the first value: 8\n",
            "Enter the second value: 5\n",
            "Choose the mathematical operator (+, -, *, /, //, **, %): -\n",
            "8.0 - 5.0 = 3.0\n"
          ]
        }
      ]
    },
    {
      "cell_type": "code",
      "source": [
        "# Parking Garage\n",
        "print(\"# of hours\\tFee($)\")\n",
        "print(\"---------------------\")\n",
        "for hours in range (1,9,1):\n",
        "  fee = 5 + 2.5 * hours\n",
        "  if fee < 10:\n",
        "    fee = float(10)\n",
        "    print(f\"{hours}\\t\\t{fee}\")\n",
        "  elif fee > 20:\n",
        "    fee = float(20)\n",
        "    print(f\"{hours}\\t\\t{fee}\")\n",
        "  else:\n",
        "    print(f\"{hours}\\t\\t{fee}\")"
      ],
      "metadata": {
        "colab": {
          "base_uri": "https://localhost:8080/"
        },
        "id": "PoW-ns8vbttI",
        "outputId": "3a59eabc-f619-4827-b5b5-5c4d4b229417"
      },
      "execution_count": null,
      "outputs": [
        {
          "output_type": "stream",
          "name": "stdout",
          "text": [
            "# of hours\tFee($)\n",
            "---------------------\n",
            "1\t\t10.0\n",
            "2\t\t10.0\n",
            "3\t\t12.5\n",
            "4\t\t15.0\n",
            "5\t\t17.5\n",
            "6\t\t20.0\n",
            "7\t\t20.0\n",
            "8\t\t20.0\n"
          ]
        }
      ]
    },
    {
      "cell_type": "code",
      "source": [
        "# Movie Theater\n",
        "print(\"Ad $\\tProfit ($)\")\n",
        "print(\"------------------\")\n",
        "for ad in range(0,201,25):\n",
        "  revenue = 10 * (20 + 2 * ad**0.5) - 200 - ad\n",
        "  print(f\"{ad}\\t{round(revenue, 1)}\")"
      ],
      "metadata": {
        "colab": {
          "base_uri": "https://localhost:8080/"
        },
        "id": "He2WhDWGtST4",
        "outputId": "2fcce01b-2b3e-42d6-c0d0-09bf5fee6e1d"
      },
      "execution_count": null,
      "outputs": [
        {
          "output_type": "stream",
          "name": "stdout",
          "text": [
            "Ad $\tProfit ($)\n",
            "------------------\n",
            "0\t0.0\n",
            "25\t75.0\n",
            "50\t91.4\n",
            "75\t98.2\n",
            "100\t100.0\n",
            "125\t98.6\n",
            "150\t94.9\n",
            "175\t89.6\n",
            "200\t82.8\n"
          ]
        }
      ]
    },
    {
      "cell_type": "code",
      "source": [
        "numbers = []\n",
        "num = float(input(\"Enter a number: \"))\n",
        "\n",
        "while num != 0:\n",
        "  numbers.append(num)\n",
        "  num = float(input(\"Enter a number: \"))\n",
        "\n",
        "numbers.sort(reverse=True)\n",
        "print(numbers)\n"
      ],
      "metadata": {
        "colab": {
          "base_uri": "https://localhost:8080/"
        },
        "id": "sfu1JLd01wSk",
        "outputId": "49dfc800-d913-4fbf-b9d6-a575f4ca9b4e"
      },
      "execution_count": 49,
      "outputs": [
        {
          "output_type": "stream",
          "name": "stdout",
          "text": [
            "Enter a number: 5.6\n",
            "Enter a number: 8.1\n",
            "Enter a number: 2\n",
            "Enter a number: 9\n",
            "Enter a number: 5.9\n",
            "Enter a number: 0\n",
            "[9.0, 8.1, 5.9, 5.6, 2.0]\n"
          ]
        }
      ]
    }
  ]
}